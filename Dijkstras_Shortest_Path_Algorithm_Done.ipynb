{
  "metadata": {
    "graffiti": {
      "firstAuthorId": "af9e0b36-2ad2-11ea-83c4-a78dc7ef519f",
      "id": "id_muf5xfw",
      "language": "EN"
    },
    "kernelspec": {
      "name": "python",
      "display_name": "Python (Pyodide)",
      "language": "python"
    },
    "language_info": {
      "codemirror_mode": {
        "name": "python",
        "version": 3
      },
      "file_extension": ".py",
      "mimetype": "text/x-python",
      "name": "python",
      "nbconvert_exporter": "python",
      "pygments_lexer": "ipython3",
      "version": "3.8"
    }
  },
  "nbformat_minor": 4,
  "nbformat": 4,
  "cells": [
    {
      "cell_type": "markdown",
      "source": "## Dijkstra's Shortest Path Algorithm\nSuppose there is graph having nodes, where each node represents a city. A few pair of nodes are connected to each other, with their distance mentioned on the conneting edge, as shown in the figure below:\n<img style=\"float: center;height:250px;\" src=\"graph1.png\"><br>\n\nTo find the shortest path from a given source to destination node in the example above, a Greedy approach would be - *At each current node, keep track of the nearest neighbour. We can determine the path in the reverse order once we have a table of nearest neighbours (optimal previous nodes).* For example, C is the optimal previous node for E. This way, the shortest path from `A` to `E` would be `A --> D --> C --> E`, as shown below:\n<img style=\"float: center;height:250px;\" src=\"graph2.png\"><br>\n\nAnd, if we wish to print the distance of each node from `A`, then it would look like:\n<img style=\"float: center;height:250px;\" src=\"graph3.png\"><br>\n\nHere, the **Previous Optimal Node** is the \"best\" node which could lead us to the current node. \n\n## The Problem\nUsing Dijkstra's algorithm, find the shortest path to all the nodes starting from a given single source node.  You need to print the distance of each node from the given source node. For the example quoted above, the distance of each node from `A` would be printed as:<br>\n```\n{'A': 0, 'D': 2, 'B': 5, 'E': 4, 'C': 3, 'F': 6}\n```",
      "metadata": {
        "graffitiCellId": "id_qq1t7ap"
      }
    },
    {
      "cell_type": "markdown",
      "source": "## The Algorithm\n1. Create a `result` dictionary. At the end of the program, `result` will have the shortest distance (value) for all nodes (key) in the graph. For our example, it will become as `{'A': 0, 'B': 5, 'C': 3, 'D': 2, 'F': 6, 'E': 4}`<br><br>\n1. Start with the source node. Distance from source to source itself is 0.  <br><br>\n1. The distance to all other nodes from the source is unknown initially, therefore set the initial distance to infinity.  <br><br>\n1. Create a set `unvisited` containing nodes that have not been visited. Initially, it will have all nodes of the graph.<br><br>\n1. Create a `path` dictionary that keeps track of the previous node (value) that can lead to the current node (key). At the end of the program, for our example, it will become as `{'B': 'A', 'C': 'D', 'D': 'A', 'F': 'C', 'E': 'C'}`. <br><br>\n1. As long as `unvisited` is non-empty, repeat the following:\n - Find the unvisited node having smallest known distance from the source node.  <br><br>\n - For the current node, find all the **unvisited neighbours**. For this, you have calculate the distance of each unvisited neighbour.  <br><br>\n - If the calculated distance of the **unvisited neighbour** is less than the already known distance in `result` dictionary, update the shortest distance in the `result` dictionary. <br><br>\n - If there is an update in the `result` dictionary, you need to update the `path` dictionary as well for the same key. <br><br>\n - Remove the current node from the `unvisited` set.",
      "metadata": {
        "graffitiCellId": "id_75htzek"
      }
    },
    {
      "cell_type": "code",
      "source": "# Helper Code\nfrom collections import defaultdict\nclass Graph:\n    def __init__(self):\n        self.nodes = set()                   # A set cannot contain duplicate nodes\n        self.neighbours = defaultdict(list)  # Defaultdict is a child class of Dictionary that provides a default value for a key that does not exists.\n        self.distances = {}                  # Dictionary. An example record as ('A', 'B'): 6 shows the distance between 'A' to 'B' is 6 units\n\n    def add_node(self, value):\n        self.nodes.add(value)\n\n    def add_edge(self, from_node, to_node, distance):\n        self.neighbours[from_node].append(to_node)\n        self.neighbours[to_node].append(from_node)\n        self.distances[(from_node, to_node)] = distance\n        self.distances[(to_node, from_node)] = distance    # lets make the graph undirected / bidirectional \n        \n    def print_graph(self):\n        print(\"Set of Nodes are: \", self.nodes)\n        print(\"Neighbours are: \", self.neighbours)\n        print(\"Distances are: \", self.distances)",
      "metadata": {
        "graffitiCellId": "id_kowh9ph",
        "trusted": true
      },
      "execution_count": 5,
      "outputs": []
    },
    {
      "cell_type": "markdown",
      "source": "###  Write the function definition here\n",
      "metadata": {
        "graffitiCellId": "id_cgrnklc"
      }
    },
    {
      "cell_type": "code",
      "source": "\ndef dijkstra(graph, source):\n    # Declare and initialize result, unvisited, and path\n    \n    result = {node: float('inf') for node in graph.nodes}\n    result[source] = 0\n    unvisited = set(graph.nodes)\n    path = {}\n    \n\n    # As long as unvisited is non-empty\n    while unvisited: \n        \n        # 1. Find the unvisited node having smallest known distance from the source node.\n        \n        current_node = None\n        for node in unvisited:\n            if current_node is None:\n                current_node = node\n            elif result[node] < result[current_node]:\n                current_node = node\n        \n        # If we've visited all reachable nodes, we're done\n        if current_node is None:\n            break\n        \n        \n        # 2. For the current node, find all the unvisited neighbours. For this, you have calculate the distance of each unvisited neighbour.\n  \n        for neighbor in graph.neighbours[current_node]:\n            if neighbor in unvisited:\n                distance = result[current_node] + graph.distances[(current_node, neighbor)]\n                        \n        \n        # 3. If the calculated distance of the unvisited neighbour is less than the already known distance in result dictionary, update the shortest distance in the result dictionary.        \n\n                if distance < result[neighbor]:\n                    result[neighbor] = distance\n                    \n\n        # 4. If there is an update in the result dictionary, you need to update the path dictionary as well for the same key.\n        \n                    path[neighbor] = current_node     \n        \n        # 5. Remove the current node from the unvisited set.\n        \n        unvisited.remove(current_node)\n\n    return result",
      "metadata": {
        "graffitiCellId": "id_lo3by3j",
        "trusted": true
      },
      "execution_count": 7,
      "outputs": []
    },
    {
      "cell_type": "markdown",
      "source": "### Test - Let's test your function",
      "metadata": {
        "graffitiCellId": "id_hae4wv9"
      }
    },
    {
      "cell_type": "code",
      "source": "# Test 1\ntestGraph = Graph()\nfor node in ['A', 'B', 'C', 'D', 'E']:\n    testGraph.add_node(node)\n\ntestGraph.add_edge('A','B',3)\ntestGraph.add_edge('A','D',2)\ntestGraph.add_edge('B','D',4)\ntestGraph.add_edge('B','E',6)\ntestGraph.add_edge('B','C',1)\ntestGraph.add_edge('C','E',2)\ntestGraph.add_edge('E','D',1)\n\nprint(dijkstra(testGraph, 'A'))     # {'A': 0, 'D': 2, 'B': 3, 'E': 3, 'C': 4}",
      "metadata": {
        "graffitiCellId": "id_gh91otb",
        "trusted": true
      },
      "execution_count": 9,
      "outputs": [
        {
          "name": "stdout",
          "text": "{'B': 3, 'C': 4, 'A': 0, 'D': 2, 'E': 3}\n",
          "output_type": "stream"
        }
      ]
    },
    {
      "cell_type": "code",
      "source": "# Test 2\ngraph = Graph()\nfor node in ['A', 'B', 'C']:\n    graph.add_node(node)\n    \ngraph.add_edge('A', 'B', 5)\ngraph.add_edge('B', 'C', 5)\ngraph.add_edge('A', 'C', 10)\n\nprint(dijkstra(graph, 'A'))        # {'A': 0, 'C': 10, 'B': 5}",
      "metadata": {
        "graffitiCellId": "id_i5pengy",
        "trusted": true
      },
      "execution_count": 10,
      "outputs": [
        {
          "name": "stdout",
          "text": "{'B': 5, 'C': 10, 'A': 0}\n",
          "output_type": "stream"
        }
      ]
    },
    {
      "cell_type": "code",
      "source": "# Test 3\ngraph = Graph()\nfor node in ['A', 'B', 'C', 'D', 'E', 'F']:\n    graph.add_node(node)\n    \ngraph.add_edge('A', 'B', 5)\ngraph.add_edge('A', 'C', 4)\ngraph.add_edge('D', 'C', 1)\ngraph.add_edge('B', 'C', 2)\ngraph.add_edge('A', 'D', 2)\ngraph.add_edge('B', 'F', 2)\ngraph.add_edge('C', 'F', 3)\ngraph.add_edge('E', 'F', 2)\ngraph.add_edge('C', 'E', 1)\n\nprint(dijkstra(graph, 'A'))       # {'A': 0, 'C': 3, 'B': 5, 'E': 4, 'D': 2, 'F': 6}",
      "metadata": {
        "graffitiCellId": "id_mna3duu",
        "trusted": true
      },
      "execution_count": 11,
      "outputs": [
        {
          "name": "stdout",
          "text": "{'B': 5, 'C': 3, 'A': 0, 'F': 6, 'D': 2, 'E': 4}\n",
          "output_type": "stream"
        }
      ]
    },
    {
      "cell_type": "code",
      "source": "",
      "metadata": {
        "graffitiCellId": "id_xa1hrwg"
      },
      "execution_count": null,
      "outputs": []
    }
  ]
}