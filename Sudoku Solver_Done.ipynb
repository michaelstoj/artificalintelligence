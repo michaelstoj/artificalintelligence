{
  "metadata": {
    "kernelspec": {
      "name": "python",
      "display_name": "Python (Pyodide)",
      "language": "python"
    },
    "language_info": {
      "codemirror_mode": {
        "name": "python",
        "version": 3
      },
      "file_extension": ".py",
      "mimetype": "text/x-python",
      "name": "python",
      "nbconvert_exporter": "python",
      "pygments_lexer": "ipython3",
      "version": "3.8"
    }
  },
  "nbformat_minor": 4,
  "nbformat": 4,
  "cells": [
    {
      "cell_type": "markdown",
      "source": "# CSP Coding Assignment: Sudoku Solver",
      "metadata": {}
    },
    {
      "cell_type": "markdown",
      "source": "## Introduction\nIn this assignment, you will extend the Sudoku-solving agent developed in the classroom lectures to solve diagonal Sudoku puzzles. A diagonal Sudoku puzzle is identical to traditional Sudoku puzzles with the added constraint that the boxes on the two main diagonals of the board must also contain the digits 1-9 in each cell (just like the rows, columns, and 3x3 blocks). You will also implement another strategy called \"Naked Pairs\", described [here](https://www.learn-sudoku.com/naked-pairs.html)\n<img style=\"float: center;height:350px;\" src=\"naked-twins.png\"><br>",
      "metadata": {}
    },
    {
      "cell_type": "code",
      "source": "def cross(a, b):\n      return [s+t for s in a for t in b]",
      "metadata": {
        "trusted": true
      },
      "execution_count": 35,
      "outputs": []
    },
    {
      "cell_type": "code",
      "source": "rows = 'ABCDEFGHI'\ncols = '123456789'\nboxes = cross(rows, cols)",
      "metadata": {
        "trusted": true
      },
      "execution_count": 36,
      "outputs": []
    },
    {
      "cell_type": "code",
      "source": "row_units = [cross(r, cols) for r in rows]\ncolumn_units = [cross(rows, c) for c in cols]\nsquare_units = [cross(rs, cs) for rs in ('ABC','DEF','GHI') for cs in ('123','456','789')]\n\n# TODO: creat the diagonal units of the boars\ndiag1 = [rows[i]+cols[i] for i in range(9)]\ndiag2 = [rows[i]+cols[8-i] for i in range(9)]\n\nunitlist = row_units + column_units + square_units + [diag1] + [diag2]",
      "metadata": {
        "trusted": true
      },
      "execution_count": 37,
      "outputs": []
    },
    {
      "cell_type": "code",
      "source": "# TODO: Update the unit list to add the new diagonal units\nunitlist = row_units + column_units + square_units + [diag1] + [diag2]",
      "metadata": {
        "trusted": true
      },
      "execution_count": 38,
      "outputs": []
    },
    {
      "cell_type": "code",
      "source": "# Must be called after all units (including diagonals) are added to the unitlist\nunits = dict((s, [u for u in unitlist if s in u]) for s in boxes)\npeers = dict((s, set(sum(units[s],[]))-set([s])) for s in boxes)",
      "metadata": {
        "trusted": true
      },
      "execution_count": 39,
      "outputs": []
    },
    {
      "cell_type": "code",
      "source": "def display(values):\n    \"\"\"\n    Display the values as a 2-D grid.\n    Input: The sudoku in dictionary form\n    Output: None\n    \"\"\"\n    width = 1 + max(len(values[a]) for a in boxes)\n\n    for r in rows:\n        print(''.join(values[r+c].center(width)+('|' if c in '36' else '') for c in cols))\n\n    return",
      "metadata": {
        "trusted": true
      },
      "execution_count": 40,
      "outputs": []
    },
    {
      "cell_type": "code",
      "source": "def grid_values(grid):\n    \"\"\"Convert grid string into {<box>: <value>} dict with '123456789' value for empties.\n\n    Args:\n        grid: Sudoku grid in string form, 81 characters long\n    Returns:\n        Sudoku grid in dictionary form:\n        - keys: Box labels, e.g. 'A1'\n        - values: Value in corresponding box, e.g. '8', or '123456789' if it is empty.\n    \"\"\"\n    values = dict(zip(boxes, ['123456789']*81))\n\n    for box, digit in zip(boxes, grid):\n        if digit in '123456789':\n            values[box] = digit\n    return values",
      "metadata": {
        "trusted": true
      },
      "execution_count": 41,
      "outputs": []
    },
    {
      "cell_type": "code",
      "source": "def eliminate(values):\n    \"\"\"Apply the eliminate strategy to a Sudoku puzzle\n\n    The eliminate strategy says that if a box has a value assigned, then none\n    of the peers of that box can have the same value.\n\n    Parameters\n    ----------\n    values(dict)\n        a dictionary of the form {'box_name': '123456789', ...}\n\n    Returns\n    -------\n    dict\n        The values dictionary with the assigned values eliminated from peers\n    \"\"\"\n    \n    solved_boxes = [box for box in values.keys() if len(values[box]) == 1]\n\n    for box in solved_boxes:\n        digit = values[box]\n\n        for peer in peers[box]:\n\n            values[peer] = values[peer].replace(digit, '')\n    return values\n    \n    \n",
      "metadata": {
        "trusted": true
      },
      "execution_count": 42,
      "outputs": []
    },
    {
      "cell_type": "code",
      "source": "def only_choice(values):\n    \"\"\"Apply the only choice strategy to a Sudoku puzzle\n\n    The only choice strategy says that if only one box in a unit allows a certain\n    digit, then that box must be assigned that digit.\n\n    Parameters\n    ----------\n    values(dict)\n        a dictionary of the form {'box_name': '123456789', ...}\n\n    Returns\n    -------\n    dict\n        The values dictionary with all single-valued boxes assigned \n    \"\"\"\n\n    for unit in unitlist:\n\n        for digit in '123456789':\n\n            boxes_num = [box for box in unit if digit in values[box]]\n\n            if len(boxes_num) == 1:\n                values[boxes_num[0]] = digit\n    return values\n",
      "metadata": {
        "trusted": true
      },
      "execution_count": 43,
      "outputs": []
    },
    {
      "cell_type": "code",
      "source": "def naked_pairs(values):\n    \"\"\"Eliminate values using the naked pairs strategy.\n\n    The naked pairs strategy says that if you have two or more unallocated boxes\n    in a unit and there are only two digits that can go in those two boxes, then\n    those two digits can be eliminated from the possible assignments of all other\n    boxes in the same unit.\n\n    Parameters\n    ----------\n    values(dict)\n        a dictionary of the form {'box_name': '123456789', ...}\n\n    Returns\n    -------\n    dict\n        The values dictionary with the naked pairs eliminated from peers      \n    \"\"\"\n    \n    for unit in unitlist:\n\n        unused_boxes = [box for box in unit if len(values[box]) > 1]\n \n        pairs = [(box1, box2) for i, box1 in enumerate(unused_boxes)\n        \n        for box2 in unused_boxes[i+1:]\n            if values[box1] == values[box2] and len(values[box1]) == 2]\n\n        for box1, box2 in pairs:\n            for box in unit:\n                if box != box1 and box != box2:\n                    for digit in values[box1]:\n                        values[box] = values[box].replace(digit, '')\n    return values\n    \n",
      "metadata": {
        "trusted": true
      },
      "execution_count": 44,
      "outputs": []
    },
    {
      "cell_type": "code",
      "source": "def reduce_puzzle(values):\n    \"\"\"Reduce a Sudoku puzzle by repeatedly applying all constraint strategies\n\n    Parameters\n    ----------\n    values(dict)\n        a dictionary of the form {'box_name': '123456789', ...}\n\n    Returns\n    -------\n    dict or False\n        The values dictionary after continued application of the constraint strategies\n        no longer produces any changes, or False if the puzzle is unsolvable \n        \n    Notes\n    -----\n    complete this function using elimination and only choice startegies then extending it to call the \n    naked pairs strategy.\n    \"\"\"\n\n    stalled = False\n    while not stalled:\n\n        before = len([box for box in values.keys() if len(values[box]) == 1])\n        \n        values = eliminate(values)\n        values = only_choice(values)\n        values = naked_pairs(values)\n        \n        after = len([box for box in values.keys() if len(values[box]) == 1])\n        stalled = before == after\n\n        if len([box for box in values.keys() if len(values[box]) == 0]):\n            return False\n\n    return values",
      "metadata": {
        "trusted": true
      },
      "execution_count": 45,
      "outputs": []
    },
    {
      "cell_type": "code",
      "source": "def search(values):\n    \"\"\"Apply depth first search to solve Sudoku puzzles in order to solve puzzles\n    that cannot be solved by repeated reduction alone.\n\n    Parameters\n    ----------\n    values(dict)\n        a dictionary of the form {'box_name': '123456789', ...}\n\n    Returns\n    -------\n    dict or False\n        The values dictionary with all boxes assigned or False\n    \"\"\"\n\n    values = reduce_puzzle(values)\n    \n    if values is False:\n        return False\n    if all(len(values[s]) == 1 for s in boxes):\n        return values\n\n    s = min((len(values[s]), s) for s in boxes if len(values[s]) > 1)    \n\n    for value in values:\n        new_values = values.copy()\n        new_values = value\n        attempt = search(new_values)\n        if attempt:\n            return attempt\n    \n\n    return False\n    \n\n",
      "metadata": {
        "trusted": true
      },
      "execution_count": 46,
      "outputs": []
    },
    {
      "cell_type": "code",
      "source": "def solve(grid):\n    \"\"\"Find the solution to a Sudoku puzzle using search and constraint propagation\n\n    Parameters\n    ----------\n    grid(string)\n        a string representing a sudoku grid.\n        \n        Ex. '2.............62....1....7...6..8...3...9...7...6..4...4....8....52.............3'\n\n    Returns\n    -------\n    dict or False\n        The dictionary representation of the final sudoku grid or False if no solution exists.\n    \"\"\"\n\n    values = grid_values(grid)\n    values = search(values)\n    return values",
      "metadata": {
        "trusted": true
      },
      "execution_count": 47,
      "outputs": []
    },
    {
      "cell_type": "code",
      "source": "def main():\n    diag_sudoku_grid = '2.............62....1....7...6..8...3...9...7...6..4...4....8....52.............3'\n    display(grid_values(diag_sudoku_grid))\n    result = solve(diag_sudoku_grid)\n    print('\\n------------------------------------ Solution ---------------------------------------------\\n')\n    display(result)",
      "metadata": {
        "trusted": true
      },
      "execution_count": 48,
      "outputs": []
    },
    {
      "cell_type": "code",
      "source": "main()",
      "metadata": {
        "trusted": true
      },
      "execution_count": 49,
      "outputs": [
        {
          "name": "stdout",
          "text": "    2     123456789 123456789 |123456789 123456789 123456789 |123456789 123456789 123456789 \n123456789 123456789 123456789 |123456789 123456789     6     |    2     123456789 123456789 \n123456789 123456789     1     |123456789 123456789 123456789 |123456789     7     123456789 \n123456789 123456789     6     |123456789 123456789     8     |123456789 123456789 123456789 \n    3     123456789 123456789 |123456789     9     123456789 |123456789 123456789     7     \n123456789 123456789 123456789 |    6     123456789 123456789 |    4     123456789 123456789 \n123456789     4     123456789 |123456789 123456789 123456789 |    8     123456789 123456789 \n123456789 123456789     5     |    2     123456789 123456789 |123456789 123456789 123456789 \n123456789 123456789 123456789 |123456789 123456789 123456789 |123456789 123456789     3     \n\n------------------------------------ Solution ---------------------------------------------\n\n2 6 7 |9 4 5 |3 8 1 \n8 5 3 |7 1 6 |2 4 9 \n4 9 1 |8 2 3 |5 7 6 \n5 7 6 |4 3 8 |1 9 2 \n3 8 4 |1 9 2 |6 5 7 \n1 2 9 |6 5 7 |4 3 8 \n6 4 2 |3 7 9 |8 1 5 \n9 3 5 |2 8 1 |7 6 4 \n7 1 8 |5 6 4 |9 2 3 \n",
          "output_type": "stream"
        }
      ]
    },
    {
      "cell_type": "code",
      "source": "",
      "metadata": {},
      "execution_count": null,
      "outputs": []
    }
  ]
}